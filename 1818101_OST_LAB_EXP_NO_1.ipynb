{
  "nbformat": 4,
  "nbformat_minor": 0,
  "metadata": {
    "colab": {
      "name": "1818101_OST LAB_EXP-NO-1.ipynb",
      "provenance": [],
      "authorship_tag": "ABX9TyOXHBAdJ0uno0DkwiLZH3yz",
      "include_colab_link": true
    },
    "kernelspec": {
      "name": "python3",
      "display_name": "Python 3"
    }
  },
  "cells": [
    {
      "cell_type": "markdown",
      "metadata": {
        "id": "view-in-github",
        "colab_type": "text"
      },
      "source": [
        "<a href=\"https://colab.research.google.com/github/abirameeramesh/DATA-SCIENCE-INTERN/blob/main/1818101_OST_LAB_EXP_NO_1.ipynb\" target=\"_parent\"><img src=\"https://colab.research.google.com/assets/colab-badge.svg\" alt=\"Open In Colab\"/></a>"
      ]
    },
    {
      "cell_type": "markdown",
      "metadata": {
        "id": "1oxm9WzEPowJ"
      },
      "source": [
        "***1818101-ABIRAMI R***"
      ]
    },
    {
      "cell_type": "markdown",
      "metadata": {
        "id": "Y2wQezzqErOv"
      },
      "source": [
        "**EXPERIMENT NO-1**"
      ]
    },
    {
      "cell_type": "markdown",
      "metadata": {
        "id": "n1pVKbxwH_AK"
      },
      "source": [
        "***1. a) Write a python program to perfom mathematical operations using simple calculator.***"
      ]
    },
    {
      "cell_type": "code",
      "metadata": {
        "colab": {
          "base_uri": "https://localhost:8080/"
        },
        "id": "HQoXea9HET6I",
        "outputId": "aa067d15-8942-4fdf-8464-a052f1d8d02f"
      },
      "source": [
        "c,d=eval(input(\"Enter a number to perform mathematical operations:\"))    #get input from user\r\n",
        "n=1\r\n",
        "print(\"select any one operation\") \r\n",
        "print(\"1.Addition\\n2.Subtraction\\n3.Multiplication\\n4.Division\\n\")       #display operations available in calculator\r\n",
        "while n==1:                \r\n",
        "  e=eval(input(\"Enter an operation to perform:\"))                        #get the operation to be performed\r\n",
        "  if e==1: \r\n",
        "      print(\"Addition of the two nos is\",c+d)                            #perform addition and print the answer\r\n",
        "  elif e==2: \r\n",
        "      print(\"Subtraction of the two nos is\",c-d)                         #perform subtraction and print the answer\r\n",
        "  elif e==3: \r\n",
        "      print(\"Multiplication of the two nos is\",c*d)                      #perform multiplication and print the answer\r\n",
        "  elif e==4: \r\n",
        "      print(\"Division of the two nos is\",c/d)                            #perform division and print the answer\r\n",
        "  else:\r\n",
        "      print(\"choice is invalid\")                                         #print invalid if choice is not valid\r\n",
        "  n=int(input(\"press 1 to continue!\"))                                   #if we want to continue press 1\r\n",
        "print(\"completed!\")\r\n"
      ],
      "execution_count": null,
      "outputs": [
        {
          "output_type": "stream",
          "text": [
            "Enter a number to perform mathematical operations:5,3\n",
            "select any one operation\n",
            "1.Addition\n",
            "2.Subtraction\n",
            "3.Multiplication\n",
            "4.Division\n",
            "\n",
            "Enter an operation to perform:1\n",
            "Addition of the two nos is 8\n",
            "press 1 to continue!1\n",
            "Enter an operation to perform:2\n",
            "Subtraction of the two nos is 2\n",
            "press 1 to continue!1\n",
            "Enter an operation to perform:3\n",
            "Multiplication of the two nos is 15\n",
            "press 1 to continue!1\n",
            "Enter an operation to perform:4\n",
            "Division of the two nos is 1.6666666666666667\n",
            "press 1 to continue!2\n",
            "completed!\n"
          ],
          "name": "stdout"
        }
      ]
    },
    {
      "cell_type": "markdown",
      "metadata": {
        "id": "uGK5uiNAIST-"
      },
      "source": [
        "\r\n",
        "\r\n",
        "***1. b) Write a python program to perform stack operations.***\r\n",
        "\r\n"
      ]
    },
    {
      "cell_type": "code",
      "metadata": {
        "colab": {
          "base_uri": "https://localhost:8080/"
        },
        "id": "zXoZjhacIuwH",
        "outputId": "3831b8c9-8ce0-46f0-870c-1dc834fbeb9e"
      },
      "source": [
        "a=[]                                                                     #create an empty list\r\n",
        "top=-1;                                                                  #initialise top to -1\r\n",
        "x=1                                                                      #initialise x with 1\r\n",
        "print(\"select any of the operations\\n1.push\\n2.pop\\n3.top\\n\")            #display operations available\r\n",
        "while x==1:                \r\n",
        "  choice=eval(input(\"Enter an operation to perform:\"))                   #get the operation to be performed\r\n",
        "  if choice==1:\r\n",
        "      print(\"before pushing\",a)                                          #print the existing list              \r\n",
        "      element=int(input(\"enter the element to be pushed:\"))              #get the element to be pushed from user\r\n",
        "      a.append(element)                                                  #appending it to the list\r\n",
        "      top+=1                                                             #increment top value as new element is added\r\n",
        "      print(\"after pushing\",a)                                           #print final list                     \r\n",
        "  elif choice==2: \r\n",
        "      if top==-1:                                                        #top==-1,implies stack is empty\r\n",
        "        print(\"stack is empty\")\r\n",
        "      else:\r\n",
        "        print(\"before popping:\",a)                                       #print the existing list\r\n",
        "        print(\"popped element is \",a[top])                               #print the element that is last in list which is going to be popped\r\n",
        "        top-=1                                                           #decrement top as last element is going to be popped\r\n",
        "        a.pop()                                                          #pop the last element in list\r\n",
        "        print(\"after popping\",a)                                         #print final list \r\n",
        "  elif choice==3: \r\n",
        "      if top==-1:                                                        #top==-1,implies stack is empty\r\n",
        "        print(\"stack is empty\")\r\n",
        "      else:\r\n",
        "        print(a)\r\n",
        "        print(\"top element is \",a[top])                                  #print the element that is last in list\r\n",
        "  else:\r\n",
        "      print(\"choice is invalid\")                                         #print invalid if choice is not valid\r\n",
        "  x=int(input(\"press 1 to continue!\"))                                   #if we want to continue press 1\r\n",
        "print(\"completed!\")"
      ],
      "execution_count": null,
      "outputs": [
        {
          "output_type": "stream",
          "text": [
            "select any of the operations\n",
            "1.push\n",
            "2.pop\n",
            "3.top\n",
            "\n",
            "Enter an operation to perform:1\n",
            "before pushing []\n",
            "enter the element to be pushed:1\n",
            "after pushing [1]\n",
            "press 1 to continue!1\n",
            "Enter an operation to perform:1\n",
            "before pushing [1]\n",
            "enter the element to be pushed:2\n",
            "after pushing [1, 2]\n",
            "press 1 to continue!1\n",
            "Enter an operation to perform:2\n",
            "before popping: [1, 2]\n",
            "popped element is  2\n",
            "after popping [1]\n",
            "press 1 to continue!1\n",
            "Enter an operation to perform:3\n",
            "[1]\n",
            "top element is  1\n",
            "press 1 to continue!1\n",
            "Enter an operation to perform:2\n",
            "before popping: [1]\n",
            "popped element is  1\n",
            "after popping []\n",
            "press 1 to continue!1\n",
            "Enter an operation to perform:3\n",
            "stack is empty\n",
            "press 1 to continue!0\n",
            "completed!\n"
          ],
          "name": "stdout"
        }
      ]
    },
    {
      "cell_type": "markdown",
      "metadata": {
        "id": "oh5z1QGYODGo"
      },
      "source": [
        "***1. c) Write a python program to convert celsius to farenheit.***"
      ]
    },
    {
      "cell_type": "code",
      "metadata": {
        "colab": {
          "base_uri": "https://localhost:8080/"
        },
        "id": "5RGbHe1-NI98",
        "outputId": "8ca26aa8-0719-46f6-b824-a4b846771f3c"
      },
      "source": [
        "cel=int(input(\"enter the value of celcius:\"))   #get celcius value from user\r\n",
        "print(\"farenheit value:\",cel*1.8+32)            #print farenheit value"
      ],
      "execution_count": null,
      "outputs": [
        {
          "output_type": "stream",
          "text": [
            "enter the value of celcius:37\n",
            "farenheit value: 98.60000000000001\n"
          ],
          "name": "stdout"
        }
      ]
    }
  ]
}